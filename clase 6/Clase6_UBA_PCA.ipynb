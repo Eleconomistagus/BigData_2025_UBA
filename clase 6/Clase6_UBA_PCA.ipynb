{
 "cells": [
  {
   "cell_type": "markdown",
   "metadata": {
    "id": "SnMR3sOW6j5y"
   },
   "source": [
    "# Big Data y Machine Learning (UBA) 2025\n",
    "## Clase 6 - Análisis de Componentes Principales (PCA)"
   ]
  },
  {
   "cell_type": "markdown",
   "metadata": {
    "id": "FFE_dv7D75Da"
   },
   "source": [
    "Componentes principales (PCA, en inglés) es una técnica de **aprendizaje no supervisado**. Es decir que nos encontramos en una situación donde tenemos información de un conjunto de variables o features ($X_1, X_2, ..., X_p$), pero no sobre una variable de resultado o outcome ($Y$). Vamos a tratar de ajustar algoritmos que interpreten la distribución de nuestros datos y encuentren relaciones interesantes entre éstos, trabajando con la naturaleza propia de los datos y sin un outcome de interés $Y$.  \n",
    "Esto se diferencia del **aprendizaje supervisado**, caso en el cual los estimadores se usan para **predecir** resultados basados en datos que poseen un outcome o variable de resultado $Y$ (puede ser una etiqueta -clasificación- o un valor -regresión-).\n",
    "\n",
    "Los algoritmos de aprendizaje no supervisado pueden ser muy útiles para casos en los que se busca **reducir la dimensionalidad**, por ejemplo cuando se busca visualizar datos de gran dimensionalidad o se busca crear un índice. PCA suele emplearse como parte del **análisis descriptivo y exploratorio de datos**."
   ]
  },
  {
   "cell_type": "markdown",
   "metadata": {},
   "source": [
    "Supongamos que tenemos $n$ observaciones y $p$ variables y queremos visualizarlas como parte de una análisis exploratorio de los datos.\n",
    "\n",
    "Podríamos realizar gráficos de a 2 variables, pero serían muchos si $p$ es grande...\n",
    "Entonces vamos a buscar una representación de los datos en menos dimensiones (2 usualmente) que capture la mayor información posible.\n",
    "\n",
    "Las dimensiones serán combinaciones lineales de las $p$ variables que tienen la mayor varianza posible."
   ]
  },
  {
   "cell_type": "markdown",
   "metadata": {
    "id": "mWiCdrSF_fqo"
   },
   "source": [
    "Vamos a trabajar con la librería [Scikit-Learn](https://scikit-learn.org/stable/modules/generated/sklearn.decomposition.PCA.html)"
   ]
  },
  {
   "cell_type": "markdown",
   "metadata": {},
   "source": [
    "### Ejemplo 1"
   ]
  },
  {
   "cell_type": "code",
   "execution_count": 4,
   "metadata": {},
   "outputs": [
    {
     "name": "stdout",
     "output_type": "stream",
     "text": [
      "Requirement already satisfied: statsmodels in /opt/anaconda3/lib/python3.12/site-packages (0.14.2)\n",
      "Requirement already satisfied: numpy>=1.22.3 in /opt/anaconda3/lib/python3.12/site-packages (from statsmodels) (1.26.4)\n",
      "Requirement already satisfied: scipy!=1.9.2,>=1.8 in /opt/anaconda3/lib/python3.12/site-packages (from statsmodels) (1.11.4)\n",
      "Requirement already satisfied: pandas!=2.1.0,>=1.4 in /opt/anaconda3/lib/python3.12/site-packages (from statsmodels) (2.2.3)\n",
      "Requirement already satisfied: patsy>=0.5.6 in /opt/anaconda3/lib/python3.12/site-packages (from statsmodels) (0.5.6)\n",
      "Requirement already satisfied: packaging>=21.3 in /opt/anaconda3/lib/python3.12/site-packages (from statsmodels) (23.2)\n",
      "Requirement already satisfied: python-dateutil>=2.8.2 in /opt/anaconda3/lib/python3.12/site-packages (from pandas!=2.1.0,>=1.4->statsmodels) (2.9.0.post0)\n",
      "Requirement already satisfied: pytz>=2020.1 in /opt/anaconda3/lib/python3.12/site-packages (from pandas!=2.1.0,>=1.4->statsmodels) (2025.2)\n",
      "Requirement already satisfied: tzdata>=2022.7 in /opt/anaconda3/lib/python3.12/site-packages (from pandas!=2.1.0,>=1.4->statsmodels) (2023.3)\n",
      "Requirement already satisfied: six in /opt/anaconda3/lib/python3.12/site-packages (from patsy>=0.5.6->statsmodels) (1.16.0)\n",
      "Requirement already satisfied: scikit-learn in /opt/anaconda3/lib/python3.12/site-packages (1.4.2)\n",
      "Requirement already satisfied: numpy>=1.19.5 in /opt/anaconda3/lib/python3.12/site-packages (from scikit-learn) (1.26.4)\n",
      "Requirement already satisfied: scipy>=1.6.0 in /opt/anaconda3/lib/python3.12/site-packages (from scikit-learn) (1.11.4)\n",
      "Requirement already satisfied: joblib>=1.2.0 in /opt/anaconda3/lib/python3.12/site-packages (from scikit-learn) (1.4.2)\n",
      "Requirement already satisfied: threadpoolctl>=2.0.0 in /opt/anaconda3/lib/python3.12/site-packages (from scikit-learn) (2.2.0)\n",
      "Requirement already satisfied: ISLP in /opt/anaconda3/lib/python3.12/site-packages (0.4.0)\n",
      "Requirement already satisfied: numpy>=1.7.1 in /opt/anaconda3/lib/python3.12/site-packages (from ISLP) (1.26.4)\n",
      "Requirement already satisfied: scipy>=0.9 in /opt/anaconda3/lib/python3.12/site-packages (from ISLP) (1.11.4)\n",
      "Requirement already satisfied: pandas>=0.20 in /opt/anaconda3/lib/python3.12/site-packages (from ISLP) (2.2.3)\n",
      "Requirement already satisfied: lxml in /opt/anaconda3/lib/python3.12/site-packages (from ISLP) (5.2.1)\n",
      "Requirement already satisfied: scikit-learn>=1.2 in /opt/anaconda3/lib/python3.12/site-packages (from ISLP) (1.4.2)\n",
      "Requirement already satisfied: joblib in /opt/anaconda3/lib/python3.12/site-packages (from ISLP) (1.4.2)\n",
      "Requirement already satisfied: statsmodels>=0.13 in /opt/anaconda3/lib/python3.12/site-packages (from ISLP) (0.14.2)\n",
      "Requirement already satisfied: lifelines in /opt/anaconda3/lib/python3.12/site-packages (from ISLP) (0.29.0)\n",
      "Requirement already satisfied: pygam in /opt/anaconda3/lib/python3.12/site-packages (from ISLP) (0.9.1)\n",
      "Requirement already satisfied: torch in /opt/anaconda3/lib/python3.12/site-packages (from ISLP) (2.2.2)\n",
      "Requirement already satisfied: pytorch-lightning in /opt/anaconda3/lib/python3.12/site-packages (from ISLP) (2.4.0)\n",
      "Requirement already satisfied: torchmetrics in /opt/anaconda3/lib/python3.12/site-packages (from ISLP) (1.4.2)\n",
      "Requirement already satisfied: python-dateutil>=2.8.2 in /opt/anaconda3/lib/python3.12/site-packages (from pandas>=0.20->ISLP) (2.9.0.post0)\n",
      "Requirement already satisfied: pytz>=2020.1 in /opt/anaconda3/lib/python3.12/site-packages (from pandas>=0.20->ISLP) (2025.2)\n",
      "Requirement already satisfied: tzdata>=2022.7 in /opt/anaconda3/lib/python3.12/site-packages (from pandas>=0.20->ISLP) (2023.3)\n",
      "Requirement already satisfied: threadpoolctl>=2.0.0 in /opt/anaconda3/lib/python3.12/site-packages (from scikit-learn>=1.2->ISLP) (2.2.0)\n",
      "Requirement already satisfied: patsy>=0.5.6 in /opt/anaconda3/lib/python3.12/site-packages (from statsmodels>=0.13->ISLP) (0.5.6)\n",
      "Requirement already satisfied: packaging>=21.3 in /opt/anaconda3/lib/python3.12/site-packages (from statsmodels>=0.13->ISLP) (23.2)\n",
      "Requirement already satisfied: matplotlib>=3.0 in /opt/anaconda3/lib/python3.12/site-packages (from lifelines->ISLP) (3.8.4)\n",
      "Requirement already satisfied: autograd>=1.5 in /opt/anaconda3/lib/python3.12/site-packages (from lifelines->ISLP) (1.7.0)\n",
      "Requirement already satisfied: autograd-gamma>=0.3 in /opt/anaconda3/lib/python3.12/site-packages (from lifelines->ISLP) (0.5.0)\n",
      "Requirement already satisfied: formulaic>=0.2.2 in /opt/anaconda3/lib/python3.12/site-packages (from lifelines->ISLP) (1.0.2)\n",
      "Requirement already satisfied: progressbar2<5.0.0,>=4.2.0 in /opt/anaconda3/lib/python3.12/site-packages (from pygam->ISLP) (4.5.0)\n",
      "Requirement already satisfied: tqdm>=4.57.0 in /opt/anaconda3/lib/python3.12/site-packages (from pytorch-lightning->ISLP) (4.66.4)\n",
      "Requirement already satisfied: PyYAML>=5.4 in /opt/anaconda3/lib/python3.12/site-packages (from pytorch-lightning->ISLP) (6.0.1)\n",
      "Requirement already satisfied: fsspec>=2022.5.0 in /opt/anaconda3/lib/python3.12/site-packages (from fsspec[http]>=2022.5.0->pytorch-lightning->ISLP) (2024.3.1)\n",
      "Requirement already satisfied: typing-extensions>=4.4.0 in /opt/anaconda3/lib/python3.12/site-packages (from pytorch-lightning->ISLP) (4.11.0)\n",
      "Requirement already satisfied: lightning-utilities>=0.10.0 in /opt/anaconda3/lib/python3.12/site-packages (from pytorch-lightning->ISLP) (0.11.7)\n",
      "Requirement already satisfied: filelock in /opt/anaconda3/lib/python3.12/site-packages (from torch->ISLP) (3.13.1)\n",
      "Requirement already satisfied: sympy in /opt/anaconda3/lib/python3.12/site-packages (from torch->ISLP) (1.12)\n",
      "Requirement already satisfied: networkx in /opt/anaconda3/lib/python3.12/site-packages (from torch->ISLP) (3.2.1)\n",
      "Requirement already satisfied: jinja2 in /opt/anaconda3/lib/python3.12/site-packages (from torch->ISLP) (3.1.4)\n",
      "Requirement already satisfied: interface-meta>=1.2.0 in /opt/anaconda3/lib/python3.12/site-packages (from formulaic>=0.2.2->lifelines->ISLP) (1.3.0)\n",
      "Requirement already satisfied: wrapt>=1.0 in /opt/anaconda3/lib/python3.12/site-packages (from formulaic>=0.2.2->lifelines->ISLP) (1.14.1)\n",
      "Requirement already satisfied: aiohttp!=4.0.0a0,!=4.0.0a1 in /opt/anaconda3/lib/python3.12/site-packages (from fsspec[http]>=2022.5.0->pytorch-lightning->ISLP) (3.9.5)\n",
      "Requirement already satisfied: setuptools in /opt/anaconda3/lib/python3.12/site-packages (from lightning-utilities>=0.10.0->pytorch-lightning->ISLP) (69.5.1)\n",
      "Requirement already satisfied: contourpy>=1.0.1 in /opt/anaconda3/lib/python3.12/site-packages (from matplotlib>=3.0->lifelines->ISLP) (1.2.0)\n",
      "Requirement already satisfied: cycler>=0.10 in /opt/anaconda3/lib/python3.12/site-packages (from matplotlib>=3.0->lifelines->ISLP) (0.11.0)\n",
      "Requirement already satisfied: fonttools>=4.22.0 in /opt/anaconda3/lib/python3.12/site-packages (from matplotlib>=3.0->lifelines->ISLP) (4.51.0)\n",
      "Requirement already satisfied: kiwisolver>=1.3.1 in /opt/anaconda3/lib/python3.12/site-packages (from matplotlib>=3.0->lifelines->ISLP) (1.4.4)\n",
      "Requirement already satisfied: pillow>=8 in /opt/anaconda3/lib/python3.12/site-packages (from matplotlib>=3.0->lifelines->ISLP) (10.3.0)\n",
      "Requirement already satisfied: pyparsing>=2.3.1 in /opt/anaconda3/lib/python3.12/site-packages (from matplotlib>=3.0->lifelines->ISLP) (3.0.9)\n",
      "Requirement already satisfied: six in /opt/anaconda3/lib/python3.12/site-packages (from patsy>=0.5.6->statsmodels>=0.13->ISLP) (1.16.0)\n",
      "Requirement already satisfied: python-utils>=3.8.1 in /opt/anaconda3/lib/python3.12/site-packages (from progressbar2<5.0.0,>=4.2.0->pygam->ISLP) (3.9.0)\n",
      "Requirement already satisfied: MarkupSafe>=2.0 in /opt/anaconda3/lib/python3.12/site-packages (from jinja2->torch->ISLP) (2.1.3)\n",
      "Requirement already satisfied: mpmath>=0.19 in /opt/anaconda3/lib/python3.12/site-packages (from sympy->torch->ISLP) (1.3.0)\n",
      "Requirement already satisfied: aiosignal>=1.1.2 in /opt/anaconda3/lib/python3.12/site-packages (from aiohttp!=4.0.0a0,!=4.0.0a1->fsspec[http]>=2022.5.0->pytorch-lightning->ISLP) (1.2.0)\n",
      "Requirement already satisfied: attrs>=17.3.0 in /opt/anaconda3/lib/python3.12/site-packages (from aiohttp!=4.0.0a0,!=4.0.0a1->fsspec[http]>=2022.5.0->pytorch-lightning->ISLP) (23.1.0)\n",
      "Requirement already satisfied: frozenlist>=1.1.1 in /opt/anaconda3/lib/python3.12/site-packages (from aiohttp!=4.0.0a0,!=4.0.0a1->fsspec[http]>=2022.5.0->pytorch-lightning->ISLP) (1.4.0)\n",
      "Requirement already satisfied: multidict<7.0,>=4.5 in /opt/anaconda3/lib/python3.12/site-packages (from aiohttp!=4.0.0a0,!=4.0.0a1->fsspec[http]>=2022.5.0->pytorch-lightning->ISLP) (6.0.4)\n",
      "Requirement already satisfied: yarl<2.0,>=1.0 in /opt/anaconda3/lib/python3.12/site-packages (from aiohttp!=4.0.0a0,!=4.0.0a1->fsspec[http]>=2022.5.0->pytorch-lightning->ISLP) (1.9.3)\n",
      "Requirement already satisfied: idna>=2.0 in /opt/anaconda3/lib/python3.12/site-packages (from yarl<2.0,>=1.0->aiohttp!=4.0.0a0,!=4.0.0a1->fsspec[http]>=2022.5.0->pytorch-lightning->ISLP) (3.7)\n"
     ]
    }
   ],
   "source": [
    "#Instalamos los paquetes necesarios\n",
    "!pip install statsmodels\n",
    "!pip install scikit-learn\n",
    "!pip install ISLP\n",
    "\n",
    "# Alternativa\n",
    "#import sys\n",
    "#!{sys.executable} -m pip install statsmodels\n",
    "#!{sys.executable} -m pip install scikit-learn\n",
    "#!{sys.executable} -m pip install ISLP"
   ]
  },
  {
   "cell_type": "code",
   "execution_count": 2,
   "metadata": {},
   "outputs": [],
   "source": [
    "import ISLP\n",
    "from ISLP import load_data\n",
    "from statsmodels.datasets import get_rdataset\n",
    "\n",
    "import numpy as np\n",
    "import pandas as pd\n",
    "import matplotlib.pyplot as plt\n",
    "from sklearn.preprocessing import StandardScaler\n",
    "from sklearn.decomposition import PCA"
   ]
  },
  {
   "cell_type": "code",
   "execution_count": 6,
   "metadata": {},
   "outputs": [
    {
     "name": "stdout",
     "output_type": "stream",
     "text": [
      "/Users/mnromero/Dropbox/COURSES/2025 - S1- Big Data y Machine Learning (UBA)/Clases/Clase 6_PCA\n"
     ]
    }
   ],
   "source": [
    "import os\n",
    "print(os.getcwd())"
   ]
  },
  {
   "cell_type": "code",
   "execution_count": 8,
   "metadata": {},
   "outputs": [],
   "source": [
    "#Descargar los archivos de esta clase en una carpeta y poner el directorio\n",
    "os.chdir(\"/Users/mnromero/Dropbox/COURSES/2025 - S1- Big Data y Machine Learning (UBA)/Clases/Clase 6_PCA\") "
   ]
  },
  {
   "cell_type": "markdown",
   "metadata": {},
   "source": [
    "Vamos a trabajar con una base de datos que provee el [libro ISLP](https://islp.readthedocs.io/en/latest/datasets/USArrests.html).\n",
    "\n",
    "##### Violent Crime Rates by US State\n",
    "Contiene información sobre arrestos por asaltos, asesinatos y violaciones cada 100.000 habitantes en 50 estados de Estados Unidos en 1973. También tiene información sobre el porcentaje de población viviendo en zonas urbanas.\n",
    "\n",
    "- Murder: Murder arrests (per 100,000)\n",
    "- Assault: Assault arrests (per 100,000)\n",
    "- Rape: Rape arrests (per 100,000)\n",
    "- UrbanPop: Percent urban population"
   ]
  },
  {
   "cell_type": "markdown",
   "metadata": {},
   "source": [
    "#### 1. Chequeamos la base de datos a usar"
   ]
  },
  {
   "cell_type": "code",
   "execution_count": 10,
   "metadata": {
    "scrolled": true
   },
   "outputs": [
    {
     "name": "stdout",
     "output_type": "stream",
     "text": [
      "(50, 4)\n",
      "\n",
      " <bound method DataFrame.info of                 Murder  Assault  UrbanPop  Rape\n",
      "rownames                                       \n",
      "Alabama           13.2      236        58  21.2\n",
      "Alaska            10.0      263        48  44.5\n",
      "Arizona            8.1      294        80  31.0\n",
      "Arkansas           8.8      190        50  19.5\n",
      "California         9.0      276        91  40.6\n",
      "Colorado           7.9      204        78  38.7\n",
      "Connecticut        3.3      110        77  11.1\n",
      "Delaware           5.9      238        72  15.8\n",
      "Florida           15.4      335        80  31.9\n",
      "Georgia           17.4      211        60  25.8\n",
      "Hawaii             5.3       46        83  20.2\n",
      "Idaho              2.6      120        54  14.2\n",
      "Illinois          10.4      249        83  24.0\n",
      "Indiana            7.2      113        65  21.0\n",
      "Iowa               2.2       56        57  11.3\n",
      "Kansas             6.0      115        66  18.0\n",
      "Kentucky           9.7      109        52  16.3\n",
      "Louisiana         15.4      249        66  22.2\n",
      "Maine              2.1       83        51   7.8\n",
      "Maryland          11.3      300        67  27.8\n",
      "Massachusetts      4.4      149        85  16.3\n",
      "Michigan          12.1      255        74  35.1\n",
      "Minnesota          2.7       72        66  14.9\n",
      "Mississippi       16.1      259        44  17.1\n",
      "Missouri           9.0      178        70  28.2\n",
      "Montana            6.0      109        53  16.4\n",
      "Nebraska           4.3      102        62  16.5\n",
      "Nevada            12.2      252        81  46.0\n",
      "New Hampshire      2.1       57        56   9.5\n",
      "New Jersey         7.4      159        89  18.8\n",
      "New Mexico        11.4      285        70  32.1\n",
      "New York          11.1      254        86  26.1\n",
      "North Carolina    13.0      337        45  16.1\n",
      "North Dakota       0.8       45        44   7.3\n",
      "Ohio               7.3      120        75  21.4\n",
      "Oklahoma           6.6      151        68  20.0\n",
      "Oregon             4.9      159        67  29.3\n",
      "Pennsylvania       6.3      106        72  14.9\n",
      "Rhode Island       3.4      174        87   8.3\n",
      "South Carolina    14.4      279        48  22.5\n",
      "South Dakota       3.8       86        45  12.8\n",
      "Tennessee         13.2      188        59  26.9\n",
      "Texas             12.7      201        80  25.5\n",
      "Utah               3.2      120        80  22.9\n",
      "Vermont            2.2       48        32  11.2\n",
      "Virginia           8.5      156        63  20.7\n",
      "Washington         4.0      145        73  26.2\n",
      "West Virginia      5.7       81        39   9.3\n",
      "Wisconsin          2.6       53        66  10.8\n",
      "Wyoming            6.8      161        60  15.6>\n",
      "\n",
      " Murder      float64\n",
      "Assault       int64\n",
      "UrbanPop      int64\n",
      "Rape        float64\n",
      "dtype: object\n",
      "\n",
      "             Murder  Assault  UrbanPop  Rape\n",
      "rownames                                   \n",
      "Alabama       13.2      236        58  21.2\n",
      "Alaska        10.0      263        48  44.5\n",
      "Arizona        8.1      294        80  31.0\n",
      "Arkansas       8.8      190        50  19.5\n",
      "California     9.0      276        91  40.6\n"
     ]
    }
   ],
   "source": [
    "arrests = get_rdataset('USArrests').data\n",
    "print(arrests.shape)\n",
    "print(\"\\n\", arrests.info)\n",
    "print(\"\\n\", arrests.dtypes)\n",
    "print(\"\\n\", arrests.head())"
   ]
  },
  {
   "cell_type": "code",
   "execution_count": 12,
   "metadata": {},
   "outputs": [
    {
     "name": "stdout",
     "output_type": "stream",
     "text": [
      "Murder        7.788\n",
      "Assault     170.760\n",
      "UrbanPop     65.540\n",
      "Rape         21.232\n",
      "dtype: float64\n"
     ]
    }
   ],
   "source": [
    "# Estadistica descriptiva (promedio) de las variables originales\n",
    "print(arrests.mean())"
   ]
  },
  {
   "cell_type": "markdown",
   "metadata": {},
   "source": [
    "##### 1.2 Transformamos las variables\n",
    "Escalamos las variables antes de usar PCA"
   ]
  },
  {
   "cell_type": "code",
   "execution_count": 16,
   "metadata": {},
   "outputs": [],
   "source": [
    "# Inicializamos el transformador, \n",
    "scaler = StandardScaler(with_std=True, with_mean=True) \n",
    "# Aplicamos fit_transform al DataFrame\n",
    "arrests_transformed = pd.DataFrame(scaler.fit_transform(arrests), columns=arrests.columns)"
   ]
  },
  {
   "cell_type": "code",
   "execution_count": 18,
   "metadata": {},
   "outputs": [
    {
     "name": "stdout",
     "output_type": "stream",
     "text": [
      "Promedio luego de la transformación\n",
      " Murder     -7.105427e-17\n",
      "Assault     1.387779e-16\n",
      "UrbanPop   -4.396483e-16\n",
      "Rape        8.593126e-16\n",
      "dtype: float64\n",
      "Desvío estandár luego de la transformación\n",
      " Murder      1.010153\n",
      "Assault     1.010153\n",
      "UrbanPop    1.010153\n",
      "Rape        1.010153\n",
      "dtype: float64\n"
     ]
    }
   ],
   "source": [
    "# Chequeamos que tengan media 0 y desvio estandar 1\n",
    "print(\"Promedio luego de la transformación\\n\",arrests_transformed.mean()) # luego de la estandarización la media es cero\n",
    "print(\"Desvío estandár luego de la transformación\\n\",arrests_transformed.std()) # la desviación estandar es uno"
   ]
  },
  {
   "cell_type": "code",
   "execution_count": 20,
   "metadata": {},
   "outputs": [
    {
     "name": "stdout",
     "output_type": "stream",
     "text": [
      "     Murder   Assault  UrbanPop      Rape\n",
      "0  1.255179  0.790787 -0.526195 -0.003451\n",
      "1  0.513019  1.118060 -1.224067  2.509424\n",
      "2  0.072361  1.493817  1.009122  1.053466\n",
      "3  0.234708  0.233212 -1.084492 -0.186794\n",
      "4  0.281093  1.275635  1.776781  2.088814\n"
     ]
    }
   ],
   "source": [
    "# Visualizamos\n",
    "print(arrests_transformed.head())"
   ]
  },
  {
   "cell_type": "markdown",
   "metadata": {},
   "source": [
    "Importante: Por definición, `PCA()` requiere centrar las variables para que tengan media cero pero las escalamos por eficiencia computacional y no alterar los pesos de las variables."
   ]
  },
  {
   "cell_type": "markdown",
   "metadata": {},
   "source": [
    "### 2. Aplicamos PCA \n",
    "Estamos buscando maximizar la varianza de los predictores con la restricción de normalización"
   ]
  },
  {
   "cell_type": "code",
   "execution_count": 22,
   "metadata": {},
   "outputs": [],
   "source": [
    "# Ajustamos el modelo\n",
    "pca = PCA()\n",
    "arrests_pca = pca.fit_transform(arrests_transformed)"
   ]
  },
  {
   "cell_type": "markdown",
   "metadata": {},
   "source": [
    "#### 2.1 Veamos los distintos elementos de dicho método no supervisado"
   ]
  },
  {
   "cell_type": "code",
   "execution_count": 24,
   "metadata": {},
   "outputs": [
    {
     "name": "stdout",
     "output_type": "stream",
     "text": [
      "[[ 9.85565885e-01  1.13339238e+00 -4.44268788e-01  1.56267145e-01]\n",
      " [ 1.95013775e+00  1.07321326e+00  2.04000333e+00 -4.38583440e-01]\n",
      " [ 1.76316354e+00 -7.45956781e-01  5.47808243e-02 -8.34652924e-01]\n",
      " [-1.41420290e-01  1.11979678e+00  1.14573692e-01 -1.82810896e-01]\n",
      " [ 2.52398013e+00 -1.54293399e+00  5.98556799e-01 -3.41996478e-01]\n",
      " [ 1.51456286e+00 -9.87555085e-01  1.09500699e+00  1.46488703e-03]\n",
      " [-1.35864746e+00 -1.08892789e+00 -6.43257569e-01 -1.18469414e-01]\n",
      " [ 4.77093091e-02 -3.25358925e-01 -7.18632942e-01 -8.81977637e-01]\n",
      " [ 3.01304227e+00  3.92285133e-02 -5.76829492e-01 -9.62847520e-02]\n",
      " [ 1.63928304e+00  1.27894240e+00 -3.42460080e-01  1.07679681e+00]\n",
      " [-9.12657146e-01 -1.57046001e+00  5.07818939e-02  9.02806864e-01]\n",
      " [-1.63979985e+00  2.10972917e-01  2.59801342e-01 -4.99104101e-01]\n",
      " [ 1.37891072e+00 -6.81841189e-01 -6.77495641e-01 -1.22021292e-01]\n",
      " [-5.05461361e-01 -1.51562542e-01  2.28054838e-01  4.24665700e-01]\n",
      " [-2.25364607e+00 -1.04054073e-01  1.64564315e-01  1.75559157e-02]\n",
      " [-7.96881121e-01 -2.70164705e-01  2.55533072e-02  2.06496428e-01]\n",
      " [-7.50859074e-01  9.58440286e-01 -2.83694170e-02  6.70556671e-01]\n",
      " [ 1.56481798e+00  8.71054655e-01 -7.83480358e-01  4.54728038e-01]\n",
      " [-2.39682949e+00  3.76391576e-01 -6.56823864e-02 -3.30459817e-01]\n",
      " [ 1.76336939e+00  4.27655192e-01 -1.57250127e-01 -5.59069521e-01]\n",
      " [-4.86166287e-01 -1.47449650e+00 -6.09497476e-01 -1.79598963e-01]\n",
      " [ 2.10844115e+00 -1.55396819e-01  3.84868584e-01  1.02372019e-01]\n",
      " [-1.69268181e+00 -6.32261251e-01  1.53070434e-01  6.73168850e-02]\n",
      " [ 9.96494459e-01  2.39379599e+00 -7.40808395e-01  2.15508013e-01]\n",
      " [ 6.96787329e-01 -2.63354790e-01  3.77443827e-01  2.25824461e-01]\n",
      " [-1.18545191e+00  5.36874372e-01  2.46889321e-01  1.23742227e-01]\n",
      " [-1.26563654e+00 -1.93953730e-01  1.75573906e-01  1.58928878e-02]\n",
      " [ 2.87439454e+00 -7.75600196e-01  1.16338049e+00  3.14515476e-01]\n",
      " [-2.38391541e+00 -1.80822897e-02  3.68553932e-02 -3.31373376e-02]\n",
      " [ 1.81566110e-01 -1.44950571e+00 -7.64453551e-01  2.43382700e-01]\n",
      " [ 1.98002375e+00  1.42848780e-01  1.83692180e-01 -3.39533597e-01]\n",
      " [ 1.68257738e+00 -8.23184142e-01 -6.43075093e-01 -1.34843689e-02]\n",
      " [ 1.12337861e+00  2.22800338e+00 -8.63571788e-01 -9.54381667e-01]\n",
      " [-2.99222562e+00  5.99118824e-01  3.01277285e-01 -2.53987327e-01]\n",
      " [-2.25965422e-01 -7.42238237e-01 -3.11391215e-02  4.73915911e-01]\n",
      " [-3.11782855e-01 -2.87854206e-01 -1.53097922e-02  1.03323208e-02]\n",
      " [ 5.91220768e-02 -5.41411454e-01  9.39832977e-01 -2.37780688e-01]\n",
      " [-8.88415824e-01 -5.71100352e-01 -4.00628706e-01  3.59061124e-01]\n",
      " [-8.63772064e-01 -1.49197842e+00 -1.36994570e+00 -6.13569430e-01]\n",
      " [ 1.32072380e+00  1.93340466e+00 -3.00537790e-01 -1.31466685e-01]\n",
      " [-1.98777484e+00  8.23343241e-01  3.89293329e-01 -1.09571764e-01]\n",
      " [ 9.99741684e-01  8.60251305e-01  1.88082949e-01  6.52864291e-01]\n",
      " [ 1.35513821e+00 -4.12480819e-01 -4.92068858e-01  6.43195491e-01]\n",
      " [-5.50565262e-01 -1.47150461e+00  2.93728037e-01 -8.23140470e-02]\n",
      " [-2.80141174e+00  1.40228806e+00  8.41263094e-01 -1.44889914e-01]\n",
      " [-9.63349112e-02  1.99735289e-01  1.17125418e-02  2.11370813e-01]\n",
      " [-2.16903379e-01 -9.70124183e-01  6.24870938e-01 -2.20847793e-01]\n",
      " [-2.10858541e+00  1.42484670e+00  1.04774671e-01  1.31908831e-01]\n",
      " [-2.07971417e+00 -6.11268624e-01 -1.38864998e-01  1.84103743e-01]\n",
      " [-6.29426664e-01  3.21012967e-01 -2.40659234e-01 -1.66651801e-01]]\n"
     ]
    }
   ],
   "source": [
    "# Scores/ Indices (z_im) donde i (filas) m (componentes)\n",
    "scores = arrests_pca\n",
    "print(scores)"
   ]
  },
  {
   "cell_type": "code",
   "execution_count": 30,
   "metadata": {},
   "outputs": [
    {
     "name": "stdout",
     "output_type": "stream",
     "text": [
      "Loadings:\n",
      " [[ 0.53589947  0.58318363  0.27819087  0.54343209]\n",
      " [ 0.41818087  0.1879856  -0.87280619 -0.16731864]\n",
      " [-0.34123273 -0.26814843 -0.37801579  0.81777791]\n",
      " [ 0.6492278  -0.74340748  0.13387773  0.08902432]]\n",
      "Loadings del CP1:\n",
      " [0.53589947 0.58318363 0.27819087 0.54343209]\n"
     ]
    },
    {
     "data": {
      "text/plain": [
       "0.5358994749381552"
      ]
     },
     "execution_count": 30,
     "metadata": {},
     "output_type": "execute_result"
    }
   ],
   "source": [
    "# Loadings vectors (ponderadores, en ecuacion 4 son los phi.\n",
    "\n",
    "loading_vectors = pca.components_ # cada fila corresponde a un CP y cada columna, a una variable\n",
    "print(\"Loadings:\\n\", pca.components_)\n",
    "print(\"Loadings del CP1:\\n\",pca.components_[0]) \n",
    "pca.components_[0,0] #loadings del CP1 variable 1, phi(1,1) en ecuacion 4\n"
   ]
  },
  {
   "cell_type": "markdown",
   "metadata": {},
   "source": [
    "#### 2.2 Recordemos la norma igual 1 de la suma de los ponderadores al cuadrado "
   ]
  },
  {
   "cell_type": "code",
   "execution_count": 32,
   "metadata": {},
   "outputs": [
    {
     "data": {
      "text/plain": [
       "0.9999986914724248"
      ]
     },
     "execution_count": 32,
     "metadata": {},
     "output_type": "execute_result"
    }
   ],
   "source": [
    "# Notar que si tomamos los loadings/ponderadores del primer componente principal, por ejemplo:\n",
    "(0.53589947)**2+(0.58318363)**2+(0.27819087)**2+(0.5434309)**2 \n",
    "# La suma de sus cuadrados vemos que es igual a 1. Es la restricción que habíamos puesto!"
   ]
  },
  {
   "cell_type": "markdown",
   "metadata": {},
   "source": [
    "Tarea probar que: $\\phi_1'*\\phi_2=0$"
   ]
  },
  {
   "cell_type": "markdown",
   "metadata": {},
   "source": [
    "### 3. Grafico de Dispersión (*Biplot*)\n",
    "Un ventaja de este método no supervisado es enfocarnos en los primeros dos componentes que nos resumen gran parte de la información original de nuestra matriz X."
   ]
  },
  {
   "cell_type": "code",
   "execution_count": 34,
   "metadata": {},
   "outputs": [
    {
     "data": {
      "image/png": "[encoded data removed]",
      "text/plain": [
       "<Figure size 500x500 with 1 Axes>"
      ]
     },
     "metadata": {},
     "output_type": "display_data"
    }
   ],
   "source": [
    "i, j = 0, 1 # Componentes\n",
    "fig, ax = plt.subplots(1, 1, figsize=(5, 5)) # creamos 1 subplot\n",
    "ax.scatter(scores[:,0], scores[:,1]) # graficamos los valores de los CP1 y CP2\n",
    "ax.set_xlabel('ComponentePrincipal%d' % (i+1))\n",
    "ax.set_ylabel('ComponentePrincipal%d' % (j+1))\n",
    "plt.title('Analisis de los primeros dos componentes principales')\n",
    "for k in range(pca.components_.shape[1]): # loop que itera por la cantidad de features\n",
    "    ax.arrow(0, 0, pca.components_[i,k], pca.components_[j,k]) # flecha desde el origen (0) a las coordenadas\n",
    "    ax.text(pca.components_[i,k], pca.components_[j,k], arrests.columns[k]) # al final de cada flecha, nombre de la variable"
   ]
  },
  {
   "cell_type": "code",
   "execution_count": 36,
   "metadata": {},
   "outputs": [
    {
     "data": {
      "image/png": "[encoded data removed]",
      "text/plain": [
       "<Figure size 500x500 with 1 Axes>"
      ]
     },
     "metadata": {},
     "output_type": "display_data"
    }
   ],
   "source": [
    "# Biplot\n",
    "# Ajustes, extendemos longitud de las flechas e invertimos el eje y\n",
    "\n",
    "i, j = 0, 1 # Componentes\n",
    "\n",
    "scale_arrow = s_ = 2 # para extender la longitud de las flechas y que se vean mejor\n",
    "scores[:,1] *= -1\n",
    "pca.components_[1] *= -1 # gira el eje y (CP2)\n",
    "\n",
    "fig, ax = plt.subplots(1, 1, figsize=(5, 5))\n",
    "ax.scatter(scores[:,0], scores[:,1]) \n",
    "ax.set_xlabel('ComponentePrincipal%d' % (i+1))\n",
    "ax.set_ylabel('ComponentePrincipal%d' % (j+1))\n",
    "plt.title('Analisis de los primeros dos componentes principales')\n",
    "for k in range(pca.components_.shape[1]):\n",
    "    ax.arrow(0, 0, s_*pca.components_[i,k], s_*pca.components_[j,k])\n",
    "    ax.text(s_*pca.components_[i,k], s_*pca.components_[j,k], arrests.columns[k])"
   ]
  },
  {
   "cell_type": "markdown",
   "metadata": {},
   "source": [
    "#### 4. Proporcion de la Varianza explicada\n",
    "Para entender cuánta información de la matriz original $X$ resume cada uno de los componentes, podemos calcular y visualizar la varianza de la matriz original $X$ explicada por cada uno de los componentes."
   ]
  },
  {
   "cell_type": "code",
   "execution_count": 40,
   "metadata": {},
   "outputs": [
    {
     "name": "stdout",
     "output_type": "stream",
     "text": [
      "[0.62006039 0.24744129 0.0891408  0.04335752]\n"
     ]
    }
   ],
   "source": [
    "# % de la Varianza explicada por los componentes \n",
    "print(pca.explained_variance_ratio_) # CP1 explica el 62% de la varianza"
   ]
  },
  {
   "cell_type": "code",
   "execution_count": 44,
   "metadata": {},
   "outputs": [],
   "source": [
    "%%capture \n",
    "fig, axes = plt.subplots(1, 2, figsize=(10, 4)) # 2 subplots uno al lado del otro\n",
    "ticks = np.arange(pca.n_components_)+1 # para crear ticks en el eje horizontal\n",
    "ax = axes[0]\n",
    "ax.plot(ticks, pca.explained_variance_ratio_ , marker='o')\n",
    "ax.set_xlabel('Componente principal');\n",
    "ax.set_ylabel('Prop. de la varianza explicada')\n",
    "ax.set_ylim([0,1])\n",
    "ax.set_xticks(ticks)\n",
    "# capture suprime la visualización de la figura parcialmente terminada"
   ]
  },
  {
   "cell_type": "code",
   "execution_count": 46,
   "metadata": {},
   "outputs": [
    {
     "data": {
      "image/png": "[encoded data removed]",
      "text/plain": [
       "<Figure size 1000x400 with 2 Axes>"
      ]
     },
     "execution_count": 46,
     "metadata": {},
     "output_type": "execute_result"
    }
   ],
   "source": [
    "ax = axes[1]\n",
    "ax.plot(ticks, pca.explained_variance_ratio_.cumsum(), marker='o') \n",
    "ax.set_xlabel('Componente principal')\n",
    "ax.set_ylabel('Suma acumulada de la varianza explicada')\n",
    "ax.set_ylim([0, 1])\n",
    "ax.set_xticks(ticks)\n",
    "fig"
   ]
  },
  {
   "cell_type": "markdown",
   "metadata": {},
   "source": [
    "Para decidir *qué número de componentes usar*, podemos consultar un scree plot que nos muestre la proporción de variable explicada para cada uno de los componentes y la variación en la varianza total explicada por el total de los componentes.\n",
    "\n",
    "Típicamente se elige la cantidad de componentes para la cual la proporción de la varianza explicada cae para cada componente principal adicional (cuando hay un codo en el scree plot)"
   ]
  },
  {
   "cell_type": "markdown",
   "metadata": {},
   "source": [
    "### Ejemplo 2"
   ]
  },
  {
   "cell_type": "code",
   "execution_count": null,
   "metadata": {},
   "outputs": [],
   "source": [
    "import numpy as np\n",
    "import matplotlib.pyplot as plt\n",
    "import pandas as pd\n",
    "from sklearn.preprocessing import StandardScaler\n",
    "from sklearn.decomposition import PCA"
   ]
  },
  {
   "cell_type": "markdown",
   "metadata": {},
   "source": [
    "Vamos a trabajar con un dataset de vinos (de scikit-learn). Contiene características de 178 vinos y a qué segmento de consumidores pertenecen"
   ]
  },
  {
   "cell_type": "code",
   "execution_count": null,
   "metadata": {},
   "outputs": [],
   "source": [
    "# Importar el dataset y breve exploración\n",
    "wine_data = pd.read_csv('Wine.csv')\n",
    "print(wine_data.shape)\n",
    "print(wine_data.dtypes)\n",
    "print(wine_data.head())"
   ]
  },
  {
   "cell_type": "code",
   "execution_count": null,
   "metadata": {},
   "outputs": [],
   "source": [
    "# Separamos datos entre X e Y (por ahora, haremos de cuenta que no contamos con Y)\n",
    "wine_features = wine_data.iloc[:, 0:13].values\n",
    "wine_customer_segment = wine_data.iloc[:, 13].values\n",
    "\n",
    "# Vemos las etiquetas posibles de customer segment\n",
    "wine_customer_segment_unique, counts = np.unique(wine_customer_segment, return_counts=True)\n",
    "for value, count in zip(wine_customer_segment_unique, counts):\n",
    "    print(f\"Value: {value}, Count: {count}\")"
   ]
  },
  {
   "cell_type": "code",
   "execution_count": null,
   "metadata": {},
   "outputs": [],
   "source": [
    "# Preprocesamiento. Estandarizar las variables\n",
    "# Iniciar scaler y aplicarlo\n",
    "sc = StandardScaler()\n",
    "wine_features_transformed = sc.fit_transform(wine_features)"
   ]
  },
  {
   "cell_type": "markdown",
   "metadata": {},
   "source": [
    "Por qué estandarizamos? El análisis es sensible a la varianza de las variables originales y eso puede ocasionar problemas a la hora de elegir los CPs"
   ]
  },
  {
   "cell_type": "code",
   "execution_count": null,
   "metadata": {},
   "outputs": [],
   "source": [
    "# Aplicar PCA\n",
    "\n",
    "pca = PCA(n_components = 2)\n",
    "\n",
    "wine_pca = pca.fit_transform(wine_features_transformed) # Obtenemos los scores"
   ]
  },
  {
   "cell_type": "code",
   "execution_count": null,
   "metadata": {},
   "outputs": [],
   "source": [
    "# Scores\n",
    "wine_scores = wine_pca\n",
    "\n",
    "# % de la Varianza explicada por los componentes\n",
    "print(\"Varianza explicada:\", pca.explained_variance_ratio_)\n",
    "# El primer componente principal explica el 36% de la varianza, mientras que el segundo, explica el 19%\n",
    "\n",
    "# Loading vectors\n",
    "loading_vectors = pca.components_ # cada fila corresponde a un CP y cada columna, a una variable\n",
    "print(\"Loadings:\\n\", pca.components_)\n",
    "print(\"Loadings del CP1:\\n\",pca.components_[0]) \n",
    "\n",
    "# Visualizamos features y loadings\n",
    "for i, loading_vector in enumerate(loading_vectors):\n",
    "    print(f\"\\nLoading Vector CP{i+1}:\")\n",
    "    for j, feature in enumerate(wine_data.columns[:-1]):\n",
    "        print(f\"{feature}: {round(loading_vector[j],3)}\")\n",
    "    print()"
   ]
  },
  {
   "cell_type": "code",
   "execution_count": null,
   "metadata": {},
   "outputs": [],
   "source": [
    "# Crear un DataFrame para los componentes principales\n",
    "pca_df = pd.DataFrame(data=wine_pca, columns=['Componente_1', 'Componente_2'])\n",
    "\n",
    "# Añadir la variable objetivo al DataFrame de los componentes principales\n",
    "pca_df['Customer_Segment'] = wine_customer_segment\n",
    "pca_df"
   ]
  },
  {
   "cell_type": "code",
   "execution_count": null,
   "metadata": {},
   "outputs": [],
   "source": [
    "# Graficamos los componentes\n",
    "plt.figure(figsize=(6, 6))\n",
    "plt.scatter(pca_df['Componente_1'], pca_df['Componente_2'], c=wine_data['Customer_Segment'], cmap='viridis')\n",
    "plt.xlabel('Componente Principal 1', fontsize=11)\n",
    "plt.ylabel('Componente Principal 2', fontsize=11)\n",
    "plt.title('Analisis de los primeros dos componentes principales')\n",
    "plt.colorbar(label='Customer Segment')\n",
    "plt.show()"
   ]
  },
  {
   "cell_type": "code",
   "execution_count": null,
   "metadata": {},
   "outputs": [],
   "source": [
    " # Otra forma de graficar\n",
    "plt.figure(figsize=(6, 6))\n",
    "plt.xlabel('Componente Principal 1', fontsize=11)\n",
    "plt.ylabel('Componente Principal 2', fontsize=11)\n",
    "plt.title(\"Wine Data\",fontsize=16)\n",
    "plt.xticks(fontsize=11)\n",
    "plt.yticks(fontsize=11)\n",
    "\n",
    "targets = [1, 2, 3]\n",
    "colors = ['red', 'green', 'blue']\n",
    "\n",
    "for target, color in zip(targets,colors):\n",
    "    indices_graf = pca_df['Customer_Segment'] == target\n",
    "    plt.scatter(pca_df.loc[indices_graf, 'Componente_1'], pca_df.loc[indices_graf, 'Componente_2'], c = color, s = 50)\n",
    "\n",
    "#plt.xlim(-4,4)\n",
    "#plt.ylim(-4,4)\n",
    "plt.legend(targets)"
   ]
  },
  {
   "cell_type": "markdown",
   "metadata": {},
   "source": [
    "La representación bidimensional de los datos tridimensionales capta correctamente el patrón principal de los datos: las observaciones rojas, azules y verdes, siguen estando en la representación bidimensional. \n",
    "\n",
    "Nota: aquí usamos dos componentes pero podríamos haber usado 1 o más de 2. "
   ]
  },
  {
   "cell_type": "code",
   "execution_count": null,
   "metadata": {},
   "outputs": [],
   "source": []
  }
 ],
 "metadata": {
  "colab": {
   "collapsed_sections": [
    "NFyrvNVL26HH",
    "pEiQnszy3lmi",
    "1yaJI88z4TfW",
    "ZoQVkU4C-GNd"
   ],
   "name": "Aprendizaje_no_supervisado.ipynb",
   "provenance": [],
   "toc_visible": true
  },
  "kernelspec": {
   "display_name": "Python [conda env:base] *",
   "language": "python",
   "name": "conda-base-py"
  },
  "language_info": {
   "codemirror_mode": {
    "name": "ipython",
    "version": 3
   },
   "file_extension": ".py",
   "mimetype": "text/x-python",
   "name": "python",
   "nbconvert_exporter": "python",
   "pygments_lexer": "ipython3",
   "version": "3.12.4"
  },
  "vscode": {
   "interpreter": {
    "hash": "988c801e8fa6188d3e53012a7256361dd6100dad47899d4700f624e035bcb20b"
   }
  }
 },
 "nbformat": 4,
 "nbformat_minor": 4
}
